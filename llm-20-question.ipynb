{
 "cells": [
  {
   "cell_type": "code",
   "execution_count": 2,
   "id": "4a57a7e5",
   "metadata": {
    "_cell_guid": "b1076dfc-b9ad-4769-8c92-a6c4dae69d19",
    "_uuid": "8f2839f25d086af736a60e9eeb907d3b93b6e0e5",
    "execution": {
     "iopub.execute_input": "2024-06-12T14:16:09.383502Z",
     "iopub.status.busy": "2024-06-12T14:16:09.383073Z",
     "iopub.status.idle": "2024-06-12T14:16:10.244007Z",
     "shell.execute_reply": "2024-06-12T14:16:10.243019Z"
    },
    "papermill": {
     "duration": 0.8669,
     "end_time": "2024-06-12T14:16:10.246444",
     "exception": false,
     "start_time": "2024-06-12T14:16:09.379544",
     "status": "completed"
    },
    "tags": []
   },
   "outputs": [
    {
     "name": "stdout",
     "output_type": "stream",
     "text": [
      "The keyword for this session is: \n",
      "Backrest\n",
      " \n",
      "Some keywords have a list of alternative guesses (alts) that are also accepted.\n",
      "For this session, the list of alts is:\n",
      "[]\n"
     ]
    }
   ],
   "source": [
    "import numpy as np # linear algebra\n",
    "import pandas as pd # data processing, CSV file I/O (e.g. pd.read_csv)\n",
    "\n",
    "import kaggle_environments\n",
    "env = kaggle_environments.make(environment=\"llm_20_questions\")\n",
    "\n",
    "print(\"The keyword for this session is: \")\n",
    "print(kaggle_environments.envs.llm_20_questions.llm_20_questions.keyword)\n",
    "print(\" \")\n",
    "print(\"Some keywords have a list of alternative guesses (alts) that are also accepted.\")\n",
    "print(\"For this session, the list of alts is:\")\n",
    "print(kaggle_environments.envs.llm_20_questions.llm_20_questions.alts)"
   ]
  }
 ],
 "metadata": {
  "kaggle": {
   "accelerator": "none",
   "dataSources": [
    {
     "databundleVersionId": 8550470,
     "sourceId": 61247,
     "sourceType": "competition"
    }
   ],
   "dockerImageVersionId": 30732,
   "isGpuEnabled": false,
   "isInternetEnabled": true,
   "language": "python",
   "sourceType": "notebook"
  },
  "kernelspec": {
   "display_name": "Python 3",
   "language": "python",
   "name": "python3"
  },
  "language_info": {
   "codemirror_mode": {
    "name": "ipython",
    "version": 3
   },
   "file_extension": ".py",
   "mimetype": "text/x-python",
   "name": "python",
   "nbconvert_exporter": "python",
   "pygments_lexer": "ipython3",
   "version": "3.11.9"
  },
  "papermill": {
   "default_parameters": {},
   "duration": 4.03554,
   "end_time": "2024-06-12T14:16:10.667253",
   "environment_variables": {},
   "exception": null,
   "input_path": "__notebook__.ipynb",
   "output_path": "__notebook__.ipynb",
   "parameters": {},
   "start_time": "2024-06-12T14:16:06.631713",
   "version": "2.5.0"
  }
 },
 "nbformat": 4,
 "nbformat_minor": 5
}
